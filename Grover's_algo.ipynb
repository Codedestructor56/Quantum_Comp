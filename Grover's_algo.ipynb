{
 "cells": [
  {
   "cell_type": "code",
   "execution_count": 19,
   "id": "fe627f6a",
   "metadata": {},
   "outputs": [],
   "source": [
    "import matplotlib.pyplot as plt\n",
    "import numpy as np\n",
    "from qiskit import QuantumCircuit, Aer, execute"
   ]
  },
  {
   "cell_type": "markdown",
   "id": "b5d0c626",
   "metadata": {},
   "source": [
    "Implementation of grover's quantum algorithm(O(sqrt(n)):"
   ]
  },
  {
   "cell_type": "code",
   "execution_count": 20,
   "id": "3c01520d",
   "metadata": {},
   "outputs": [
    {
     "data": {
      "text/html": [
       "<pre style=\"word-wrap: normal;white-space: pre;background: #fff0;line-height: 1.1;font-family: &quot;Courier New&quot;,Courier,monospace\">        \n",
       "q_0: ─■─\n",
       "      │ \n",
       "q_1: ─■─\n",
       "        </pre>"
      ],
      "text/plain": [
       "        \n",
       "q_0: ─■─\n",
       "      │ \n",
       "q_1: ─■─\n",
       "        "
      ]
     },
     "execution_count": 20,
     "metadata": {},
     "output_type": "execute_result"
    }
   ],
   "source": [
    "flipper=QuantumCircuit(2,name='flipper')\n",
    "flipper.cz(0,1)\n",
    "flipper.to_gate()\n",
    "flipper.draw()"
   ]
  },
  {
   "cell_type": "code",
   "execution_count": 21,
   "id": "8667e810",
   "metadata": {},
   "outputs": [
    {
     "data": {
      "text/html": [
       "<pre style=\"word-wrap: normal;white-space: pre;background: #fff0;line-height: 1.1;font-family: &quot;Courier New&quot;,Courier,monospace\">     ┌───┐\n",
       "q_0: ┤ H ├\n",
       "     ├───┤\n",
       "q_1: ┤ H ├\n",
       "     └───┘\n",
       "c_0: ═════\n",
       "          \n",
       "c_1: ═════\n",
       "          </pre>"
      ],
      "text/plain": [
       "     ┌───┐\n",
       "q_0: ┤ H ├\n",
       "     ├───┤\n",
       "q_1: ┤ H ├\n",
       "     └───┘\n",
       "c_0: ═════\n",
       "          \n",
       "c_1: ═════\n",
       "          "
      ]
     },
     "execution_count": 21,
     "metadata": {},
     "output_type": "execute_result"
    }
   ],
   "source": [
    "hadam=QuantumCircuit(2,2)\n",
    "hadam.h([0,1])\n",
    "hadam.draw()"
   ]
  },
  {
   "cell_type": "code",
   "execution_count": 26,
   "id": "ea2b4177",
   "metadata": {},
   "outputs": [
    {
     "data": {
      "text/html": [
       "<pre style=\"word-wrap: normal;white-space: pre;background: #fff0;line-height: 1.1;font-family: &quot;Courier New&quot;,Courier,monospace\">     ┌───┐┌──────────┐\n",
       "q_0: ┤ H ├┤1         ├\n",
       "     ├───┤│  flipper │\n",
       "q_1: ┤ H ├┤0         ├\n",
       "     └───┘└──────────┘\n",
       "c_0: ═════════════════\n",
       "                      \n",
       "c_1: ═════════════════\n",
       "                      </pre>"
      ],
      "text/plain": [
       "     ┌───┐┌──────────┐\n",
       "q_0: ┤ H ├┤1         ├\n",
       "     ├───┤│  flipper │\n",
       "q_1: ┤ H ├┤0         ├\n",
       "     └───┘└──────────┘\n",
       "c_0: ═════════════════\n",
       "                      \n",
       "c_1: ═════════════════\n",
       "                      "
      ]
     },
     "execution_count": 26,
     "metadata": {},
     "output_type": "execute_result"
    }
   ],
   "source": [
    "hadam.append(flipper,[1,0])\n",
    "hadam.draw()"
   ]
  },
  {
   "cell_type": "code",
   "execution_count": 27,
   "id": "e0a72157",
   "metadata": {},
   "outputs": [
    {
     "name": "stdout",
     "output_type": "stream",
     "text": [
      "Statevector([ 0.5+0.j,  0.5+0.j,  0.5+0.j, -0.5+0.j],\n",
      "            dims=(2, 2))\n"
     ]
    }
   ],
   "source": [
    "back=Aer.get_backend('statevector_simulator')\n",
    "execi=execute(hadam,back)\n",
    "vec=execi.result().get_statevector()\n",
    "print(vec)"
   ]
  },
  {
   "cell_type": "markdown",
   "id": "8c20663e",
   "metadata": {},
   "source": [
    "maths: |w>=np.array(0,0,0,1) and |s>=0.5*np.array(1,1,1,1)\n",
    "In the span of |w> and |s> exists |s'>=1/sqrt(3)*np.array(1,1,1,0) orthogonal to |w>\n",
    "Now, flipper(|s>)->0.5*np.array(1,1,1,-1) so |s> is reflected about |s'> by the winning probability element.\n",
    "To get closer to |w>(the vector we want), we apply reflection:\n",
    "refl(|s>)=|s><s|-I. This algo is iterative."
   ]
  },
  {
   "cell_type": "code",
   "execution_count": 32,
   "id": "e7a709cc",
   "metadata": {},
   "outputs": [
    {
     "data": {
      "text/html": [
       "<pre style=\"word-wrap: normal;white-space: pre;background: #fff0;line-height: 1.1;font-family: &quot;Courier New&quot;,Courier,monospace\">     ┌───┐┌───┐   ┌───┐\n",
       "q_0: ┤ H ├┤ Z ├─■─┤ H ├\n",
       "     ├───┤├───┤ │ ├───┤\n",
       "q_1: ┤ H ├┤ Z ├─■─┤ H ├\n",
       "     └───┘└───┘   └───┘</pre>"
      ],
      "text/plain": [
       "     ┌───┐┌───┐   ┌───┐\n",
       "q_0: ┤ H ├┤ Z ├─■─┤ H ├\n",
       "     ├───┤├───┤ │ ├───┤\n",
       "q_1: ┤ H ├┤ Z ├─■─┤ H ├\n",
       "     └───┘└───┘   └───┘"
      ]
     },
     "execution_count": 32,
     "metadata": {},
     "output_type": "execute_result"
    }
   ],
   "source": [
    "refl=QuantumCircuit(2,name='refl')\n",
    "refl.h([0,1])\n",
    "refl.z([0,1])\n",
    "refl.cz(0,1)\n",
    "refl.h([0,1])\n",
    "refl.to_gate()\n",
    "refl.draw()"
   ]
  },
  {
   "cell_type": "code",
   "execution_count": 44,
   "id": "4c66909d",
   "metadata": {},
   "outputs": [
    {
     "data": {
      "text/html": [
       "<pre style=\"word-wrap: normal;white-space: pre;background: #fff0;line-height: 1.1;font-family: &quot;Courier New&quot;,Courier,monospace\">     ┌───┐┌──────────┐┌───────┐┌─┐   \n",
       "q_0: ┤ H ├┤0         ├┤0      ├┤M├───\n",
       "     ├───┤│  flipper ││  refl │└╥┘┌─┐\n",
       "q_1: ┤ H ├┤1         ├┤1      ├─╫─┤M├\n",
       "     └───┘└──────────┘└───────┘ ║ └╥┘\n",
       "c_0: ═══════════════════════════╩══╬═\n",
       "                                   ║ \n",
       "c_1: ══════════════════════════════╩═\n",
       "                                     </pre>"
      ],
      "text/plain": [
       "     ┌───┐┌──────────┐┌───────┐┌─┐   \n",
       "q_0: ┤ H ├┤0         ├┤0      ├┤M├───\n",
       "     ├───┤│  flipper ││  refl │└╥┘┌─┐\n",
       "q_1: ┤ H ├┤1         ├┤1      ├─╫─┤M├\n",
       "     └───┘└──────────┘└───────┘ ║ └╥┘\n",
       "c_0: ═══════════════════════════╩══╬═\n",
       "                                   ║ \n",
       "c_1: ══════════════════════════════╩═\n",
       "                                     "
      ]
     },
     "execution_count": 44,
     "metadata": {},
     "output_type": "execute_result"
    }
   ],
   "source": [
    "final_circ=QuantumCircuit(2,2)\n",
    "final_circ.h([0,1])\n",
    "final_circ.append(flipper,[0,1])\n",
    "final_circ.append(refl,[0,1])\n",
    "final_circ.measure([0,1],[0,1])\n",
    "final_circ.draw()"
   ]
  },
  {
   "cell_type": "code",
   "execution_count": 48,
   "id": "d0acb981",
   "metadata": {},
   "outputs": [
    {
     "data": {
      "text/plain": [
       "{'11': 1}"
      ]
     },
     "execution_count": 48,
     "metadata": {},
     "output_type": "execute_result"
    }
   ],
   "source": [
    "new_back=Aer.get_backend('qasm_simulator')\n",
    "ex=execute(final_circ,new_back,shots=1)\n",
    "result=ex.result()\n",
    "result.get_counts()"
   ]
  },
  {
   "cell_type": "code",
   "execution_count": null,
   "id": "6e375f3d",
   "metadata": {},
   "outputs": [],
   "source": []
  }
 ],
 "metadata": {
  "kernelspec": {
   "display_name": "Python 3 (ipykernel)",
   "language": "python",
   "name": "python3"
  },
  "language_info": {
   "codemirror_mode": {
    "name": "ipython",
    "version": 3
   },
   "file_extension": ".py",
   "mimetype": "text/x-python",
   "name": "python",
   "nbconvert_exporter": "python",
   "pygments_lexer": "ipython3",
   "version": "3.9.12"
  }
 },
 "nbformat": 4,
 "nbformat_minor": 5
}
